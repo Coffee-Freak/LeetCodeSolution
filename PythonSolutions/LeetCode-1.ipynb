{
 "cells": [
  {
   "cell_type": "markdown",
   "metadata": {},
   "source": [
    "# LeetCode Question-1\n",
    "\n",
    "## Given an array of integers nums and an integer target, return indices of the two numbers such that they add up to target. You may assume that each input would have exactly one solution, and you may not use the same element twice. You can return the answer in any order."
   ]
  },
  {
   "cell_type": "markdown",
   "metadata": {},
   "source": []
  },
  {
   "cell_type": "code",
   "execution_count": 1,
   "metadata": {},
   "outputs": [],
   "source": [
    "# Given Code\n",
    "class Solution(object):\n",
    "    def twoSum(self, nums, target):\n",
    "        \"\"\"\n",
    "        :type nums: List[int]\n",
    "        :type target: int\n",
    "        :rtype: List[int]\n",
    "        \"\"\""
   ]
  },
  {
   "cell_type": "code",
   "execution_count": null,
   "metadata": {},
   "outputs": [],
   "source": [
    "# Main Logic:\n",
    "class Solution(object):\n",
    "    def twoSum(self, nums, target):\n",
    "        hashmap = {}\n",
    "        for i,num in enumerate(nums):\n",
    "            if num in hashmap:\n",
    "                return [hashmap[num],i]\n",
    "            hashmap[target-num] = i    "
   ]
  },
  {
   "cell_type": "code",
   "execution_count": 3,
   "metadata": {},
   "outputs": [
    {
     "name": "stdout",
     "output_type": "stream",
     "text": [
      "Test Case 1 answer: [0, 1]\n",
      "Test Case 2 answer: [1, 2]\n",
      "Test Case 3 answer: [0, 1]\n"
     ]
    }
   ],
   "source": [
    "# Testcase Testing\n",
    "TwoSum = Solution()\n",
    "print(f\"Test Case 1 answer: {TwoSum.twoSum([2,7,11,15],9)}\")\n",
    "print(f\"Test Case 2 answer: {TwoSum.twoSum([3,2,4],6)}\")\n",
    "print(f\"Test Case 3 answer: {TwoSum.twoSum([3,3],6)}\")"
   ]
  },
  {
   "cell_type": "code",
   "execution_count": 4,
   "metadata": {},
   "outputs": [],
   "source": [
    "# Explanation:\n",
    "# Here is a line-by-line explanation of the code:\n",
    "#    Step 1: Initialize an empty dictionary hashmap = {} to store numbers and their indices.\n",
    "#    Step 2: Start a loop that iterates over the indices and values of nums using enumerate().\n",
    "#    Step 3: Check if num (the current number) exists in hashmap.\n",
    "#        - If num is found, it means we have already stored its complement (target - num) in hashmap.\n",
    "#        - Return the indices of the complement (hashmap[num]) and the current number (i).\n",
    "#    Step 4: If num is not found, store its complement (target - num) in hashmap as a key, with i as the value.\n",
    "#    Step 5: The function returns the first pair of indices where the sum equals target."
   ]
  },
  {
   "cell_type": "markdown",
   "metadata": {},
   "source": []
  }
 ],
 "metadata": {
  "kernelspec": {
   "display_name": "LeetCodeENV",
   "language": "python",
   "name": "python3"
  },
  "language_info": {
   "codemirror_mode": {
    "name": "ipython",
    "version": 3
   },
   "file_extension": ".py",
   "mimetype": "text/x-python",
   "name": "python",
   "nbconvert_exporter": "python",
   "pygments_lexer": "ipython3",
   "version": "3.12.8"
  }
 },
 "nbformat": 4,
 "nbformat_minor": 2
}
