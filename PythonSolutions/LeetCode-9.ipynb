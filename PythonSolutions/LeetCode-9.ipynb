{
  "cells": [
    {
      "cell_type": "markdown",
      "metadata": {},
      "source": [
        "# LeetCode Question-9\n",
        "## Given an integer x, return true if x is a palindrome , and false otherwise."
      ]
    },
    {
      "cell_type": "code",
      "execution_count": 1,
      "metadata": {},
      "outputs": [],
      "source": [
        "# Given Syntax\n",
        "class Solution(object):\n",
        "    def isPalindrome(self, x):\n",
        "        \"\"\"\n",
        "        :type x: int\n",
        "        :rtype: bool\n",
        "        \"\"\""
      ]
    },
    {
      "cell_type": "code",
      "execution_count": 2,
      "metadata": {},
      "outputs": [],
      "source": [
        "# Main logic\n",
        "class Solution(object):\n",
        "    def isPalindrome(self, x):\n",
        "        if x is None:\n",
        "            return False\n",
        "        number = str(x)\n",
        "        lenNumber = len(number)\n",
        "        left = right = 0\n",
        "        if lenNumber%2 == 0:\n",
        "            left = lenNumber//2 - 1 \n",
        "            right = lenNumber//2  \n",
        "        else: \n",
        "            right = left = lenNumber//2  \n",
        "        while left >= 0 and right < lenNumber:\n",
        "            if number[right] != number[left]:\n",
        "                return False\n",
        "            right += 1\n",
        "            left -= 1\n",
        "        return True"
      ]
    },
    {
      "cell_type": "code",
      "execution_count": null,
      "metadata": {},
      "outputs": [
        {
          "name": "stdout",
          "output_type": "stream",
          "text": [
            "True\n",
            "False\n",
            "False\n"
          ]
        }
      ],
      "source": [
        "# Testing Testcase\n",
        "Obj = Solution()\n",
        "print(Obj.isPalindrome(121))\n",
        "print(Obj.isPalindrome(-121))\n",
        "print(Obj.isPalindrome(10))"
      ]
    },
    {
      "cell_type": "code",
      "execution_count": 4,
      "metadata": {},
      "outputs": [],
      "source": [
        "# Explanation:\n",
        "# Here is a line-by-line explanation of the code:\n",
        "#    Step 1: Check if x is None.\n",
        "#        - If x is None, return False (invalid input case).\n",
        "#    Step 2: Convert x to a string to allow easy character comparison.\n",
        "#    Step 3: Get the length of the string representation (lenNumber).\n",
        "#    Step 4: Initialize left and right pointers for comparison.\n",
        "#        - If lenNumber is even:\n",
        "#            - Set left = middle - 1.\n",
        "#            - Set right = middle.\n",
        "#        - If lenNumber is odd:\n",
        "#            - Set both left and right to the middle index.\n",
        "#    Step 5: Use a while loop to compare characters from the center outwards.\n",
        "#        - If number[right] != number[left], return False (not a palindrome).\n",
        "#        - Move right pointer forward and left pointer backward.\n",
        "#    Step 6: If all characters match, return True (it is a palindrome)."
      ]
    },
    {
      "cell_type": "code",
      "execution_count": 5,
      "metadata": {},
      "outputs": [],
      "source": [
        "# Note:\n",
        "# Why Not Use String Conversion ([::-1])?\n",
        "# Converting an integer to a string and then using [::-1] for comparison increases space complexity to O(N), where N is\n",
        "# the number of digits."
      ]
    }
  ],
  "metadata": {
    "kernelspec": {
      "display_name": "LeetCodeENV",
      "language": "python",
      "name": "python3"
    },
    "language_info": {
      "codemirror_mode": {
        "name": "ipython",
        "version": 3
      },
      "file_extension": ".py",
      "mimetype": "text/x-python",
      "name": "python",
      "nbconvert_exporter": "python",
      "pygments_lexer": "ipython3",
      "version": "3.12.8"
    }
  },
  "nbformat": 4,
  "nbformat_minor": 2
}
