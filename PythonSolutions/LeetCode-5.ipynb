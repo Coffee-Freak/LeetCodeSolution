{
 "cells": [
  {
   "cell_type": "markdown",
   "metadata": {},
   "source": [
    "# LeetCode Question-5\n",
    "## Given a string s, return the longest palindromic substring in s."
   ]
  },
  {
   "cell_type": "code",
   "execution_count": 1,
   "metadata": {},
   "outputs": [],
   "source": [
    "# Given Code\n",
    "class Solution(object):\n",
    "    def longestPalindrome(self, s):\n",
    "        \"\"\"\n",
    "        :type s: str\n",
    "        :rtype: str\n",
    "        \"\"\""
   ]
  },
  {
   "cell_type": "code",
   "execution_count": 2,
   "metadata": {},
   "outputs": [],
   "source": [
    "# Main Logic\n",
    "class Solution(object):\n",
    "    def longestPalindrome(self, s):\n",
    "        if len(s) == 1:\n",
    "            return s\n",
    "        longest_palindrome_substring = \"\"\n",
    "        for i in range(len(s)):\n",
    "            odd = expandCenter(i, i, s)\n",
    "            even = expandCenter(i, i+1, s)\n",
    "            longest_palindrome_substring = max(longest_palindrome_substring, odd, even, key=len)\n",
    "        return longest_palindrome_substring\n",
    "\n",
    "def expandCenter(left, right, string):\n",
    "    while left >= 0 and right <= len(string)-1 and string[left] == string[right]:\n",
    "        left -= 1\n",
    "        right += 1\n",
    "    return string[left+1:right]"
   ]
  },
  {
   "cell_type": "code",
   "execution_count": 3,
   "metadata": {},
   "outputs": [
    {
     "name": "stdout",
     "output_type": "stream",
     "text": [
      "bab\n",
      "bb\n"
     ]
    }
   ],
   "source": [
    "# Testing Testcase\n",
    "Obj = Solution()\n",
    "print(Obj.longestPalindrome(\"babad\"))\n",
    "print(Obj.longestPalindrome(\"cbbd\"))"
   ]
  },
  {
   "cell_type": "code",
   "execution_count": 4,
   "metadata": {},
   "outputs": [],
   "source": [
    "# Explanation:\n",
    "# Here is a line-by-line explanation of the code:\n",
    "#    Step 1: Check if the input string s has only one character.\n",
    "#        - If yes, return s as a single character is always a palindrome.\n",
    "#    Step 2: Initialize longest_palindrome_substring as an empty string to store the longest palindrome found.\n",
    "#    Step 3: Iterate through each index i of the string:\n",
    "#        - Call expandCenter(i, i, s) to find the longest odd-length palindrome centered at i.\n",
    "#        - Call expandCenter(i, i+1, s) to find the longest even-length palindrome centered at i.\n",
    "#        - Update longest_palindrome_substring with the longest substring found using max() with key=len.\n",
    "#    Step 4: Return longest_palindrome_substring after the loop ends.\n",
    "\n",
    "# Explanation of expandCenter(left, right, string):\n",
    "#    Step 1: Expand outward while:\n",
    "#        - left is within bounds (>= 0).\n",
    "#        - right is within bounds (<= len(string) - 1).\n",
    "#        - Characters at left and right indices are equal.\n",
    "#    Step 2: Decrease left and increase right to expand the palindrome.\n",
    "#    Step 3: Once the expansion stops, return the palindrome substring (string[left+1:right])."
   ]
  }
 ],
 "metadata": {
  "kernelspec": {
   "display_name": "LeetCodeENV",
   "language": "python",
   "name": "python3"
  },
  "language_info": {
   "codemirror_mode": {
    "name": "ipython",
    "version": 3
   },
   "file_extension": ".py",
   "mimetype": "text/x-python",
   "name": "python",
   "nbconvert_exporter": "python",
   "pygments_lexer": "ipython3",
   "version": "3.12.8"
  }
 },
 "nbformat": 4,
 "nbformat_minor": 2
}
