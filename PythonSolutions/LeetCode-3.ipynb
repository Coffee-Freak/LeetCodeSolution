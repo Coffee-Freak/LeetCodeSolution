{
 "cells": [
  {
   "cell_type": "markdown",
   "metadata": {},
   "source": [
    "# LeetCode Question-3\n",
    "## Given a string s, find the length of the longest Substring without duplicate characters."
   ]
  },
  {
   "cell_type": "code",
   "execution_count": 1,
   "metadata": {},
   "outputs": [],
   "source": [
    "# Given Code\n",
    "class Solution(object):\n",
    "    def lengthOfLongestSubstring(self, s):\n",
    "        \"\"\"\n",
    "        :type s: str\n",
    "        :rtype: int\n",
    "        \"\"\""
   ]
  },
  {
   "cell_type": "code",
   "execution_count": 1,
   "metadata": {},
   "outputs": [],
   "source": [
    "# Main Logic\n",
    "class Solution(object):\n",
    "    def lengthOfLongestSubstring(self, s):\n",
    "        characters = set()\n",
    "        left = max_length = 0\n",
    "        for right in range(len(s)):\n",
    "            while s[right] in characters:\n",
    "                characters.remove(s[left])\n",
    "                left += 1\n",
    "            characters.add(s[right])\n",
    "            max_length = max(max_length, right-left+1)\n",
    "        return max_length"
   ]
  },
  {
   "cell_type": "code",
   "execution_count": 2,
   "metadata": {},
   "outputs": [
    {
     "name": "stdout",
     "output_type": "stream",
     "text": [
      "3\n",
      "1\n",
      "3\n"
     ]
    }
   ],
   "source": [
    "# Testcase Testing\n",
    "Obj = Solution()\n",
    "s1 = \"abcabcbb\"\n",
    "s2 = \"bbbbb\"\n",
    "s3 = \"pwwkew\"\n",
    "print(Obj.lengthOfLongestSubstring(s1))\n",
    "print(Obj.lengthOfLongestSubstring(s2))\n",
    "print(Obj.lengthOfLongestSubstring(s3))"
   ]
  },
  {
   "cell_type": "code",
   "execution_count": null,
   "metadata": {},
   "outputs": [],
   "source": [
    "# Explanation:\n",
    "# Here is a line-by-line explanation of the code:\n",
    "#    Step 1: Initialize an empty set characters to store unique characters in the current substring.\n",
    "#    Step 2: Initialize two pointers: \n",
    "#        - left (starting index of the current substring) set to 0.\n",
    "#        - max_length (stores the maximum substring length) set to 0.\n",
    "#    Step 3: Start a loop that iterates over the indices of s using right as the moving pointer.\n",
    "#    Step 4: Use a while loop to check if s[right] (current character) is already in characters:\n",
    "#        - If s[right] exists in characters, it means there is a duplicate.\n",
    "#        - Remove s[left] from characters and move left forward by 1 (shrinking the window).\n",
    "#    Step 5: Add s[right] to characters (extend the current substring).\n",
    "#    Step 6: Update max_length to store the maximum length found so far.\n",
    "#    Step 7: Continue moving the right pointer until the end of the string.\n",
    "#    Step 8: Return max_length, which represents the length of the longest substring without repeating characters."
   ]
  }
 ],
 "metadata": {
  "kernelspec": {
   "display_name": "LeetCodeENV",
   "language": "python",
   "name": "python3"
  },
  "language_info": {
   "codemirror_mode": {
    "name": "ipython",
    "version": 3
   },
   "file_extension": ".py",
   "mimetype": "text/x-python",
   "name": "python",
   "nbconvert_exporter": "python",
   "pygments_lexer": "ipython3",
   "version": "3.12.8"
  }
 },
 "nbformat": 4,
 "nbformat_minor": 2
}
