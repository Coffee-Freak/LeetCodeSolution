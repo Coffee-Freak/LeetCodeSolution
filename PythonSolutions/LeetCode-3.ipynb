{
 "cells": [
  {
   "cell_type": "markdown",
   "metadata": {},
   "source": [
    "# LeetCode Question-3\n",
    "## Given a string s, find the length of the longest Substring without duplicate characters."
   ]
  },
  {
   "cell_type": "code",
   "execution_count": 30,
   "metadata": {},
   "outputs": [],
   "source": [
    "# Given Code\n",
    "class Solution(object):\n",
    "    def lengthOfLongestSubstring(self, s):\n",
    "        \"\"\"\n",
    "        :type s: str\n",
    "        :rtype: int\n",
    "        \"\"\""
   ]
  },
  {
   "cell_type": "code",
   "execution_count": null,
   "metadata": {},
   "outputs": [],
   "source": [
    "# Main Logic\n",
    "class Solution(object):\n",
    "    def lengthOfLongestSubstring(self, s):\n",
    "        subString = temp = []\n",
    "        for i in s:\n",
    "            if i in temp:\n",
    "                if i in temp[:len(temp)//2]:\n",
    "                    index = temp.index(i)\n",
    "                    print(temp)\n",
    "                    i = temp[index-1:]\n",
    "                    continue\n",
    "                if len(subString) < len(temp):\n",
    "                    subString = temp.copy()\n",
    "                temp = [i]\n",
    "            if i not in temp:\n",
    "                temp.append(i)\n",
    "        if len(subString) < len(temp):\n",
    "            subString = temp.copy()\n",
    "        return [len(subString), subString]\n",
    "        "
   ]
  },
  {
   "cell_type": "code",
   "execution_count": 49,
   "metadata": {},
   "outputs": [
    {
     "name": "stdout",
     "output_type": "stream",
     "text": [
      "[3, ['a', 'b', 'c']]\n",
      "[1, ['b']]\n",
      "[2, ['p', 'w']]\n"
     ]
    }
   ],
   "source": [
    "# Testcase Testing\n",
    "Obj = Solution()\n",
    "s1 = \"abcabcbb\"\n",
    "s2 = \"bbbbb\"\n",
    "s3 = \"pwwkew\"\n",
    "print(Obj.lengthOfLongestSubstring(s1))\n",
    "print(Obj.lengthOfLongestSubstring(s2))\n",
    "print(Obj.lengthOfLongestSubstring(s3))"
   ]
  },
  {
   "cell_type": "code",
   "execution_count": 50,
   "metadata": {},
   "outputs": [
    {
     "name": "stdout",
     "output_type": "stream",
     "text": [
      "[5, ['h', 'j', 'd', 'm', 'l']]\n"
     ]
    }
   ],
   "source": [
    "s4 = \"ohvhjdml\"\n",
    "print(Obj.lengthOfLongestSubstring(s4))\n"
   ]
  },
  {
   "cell_type": "code",
   "execution_count": null,
   "metadata": {},
   "outputs": [],
   "source": []
  }
 ],
 "metadata": {
  "kernelspec": {
   "display_name": "LeetCodeENV",
   "language": "python",
   "name": "python3"
  },
  "language_info": {
   "codemirror_mode": {
    "name": "ipython",
    "version": 3
   },
   "file_extension": ".py",
   "mimetype": "text/x-python",
   "name": "python",
   "nbconvert_exporter": "python",
   "pygments_lexer": "ipython3",
   "version": "3.12.8"
  }
 },
 "nbformat": 4,
 "nbformat_minor": 2
}
