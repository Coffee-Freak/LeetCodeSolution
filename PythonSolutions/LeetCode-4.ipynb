{
 "cells": [
  {
   "cell_type": "markdown",
   "metadata": {},
   "source": [
    "# LeetCode Question-4\n",
    "## Given two sorted arrays nums1 and nums2 of size m and n respectively, return the median of the two sorted arrays.The overall run time complexity should be O(log (m+n))."
   ]
  },
  {
   "cell_type": "code",
   "execution_count": 1,
   "metadata": {},
   "outputs": [],
   "source": [
    "# Given Code\n",
    "class Solution(object):\n",
    "    def findMedianSortedArrays(self, nums1, nums2):\n",
    "        \"\"\"\n",
    "        :type nums1: List[int]\n",
    "        :type nums2: List[int]\n",
    "        :rtype: float\n",
    "        \"\"\""
   ]
  },
  {
   "cell_type": "code",
   "execution_count": 2,
   "metadata": {},
   "outputs": [],
   "source": [
    "# Main Logic\n",
    "class Solution(object):\n",
    "    def findMedianSortedArrays(self, nums1, nums2):\n",
    "        if len(nums1)==0 and len(nums2)==0:\n",
    "            return 0\n",
    "        concate = sorted(nums1+nums2)\n",
    "        n = len(concate)\n",
    "        if n == 1:\n",
    "            return concate[0]\n",
    "        elif n%2 == 1:\n",
    "            return concate[n//2]\n",
    "        else:\n",
    "            return (concate[n%2]+concate[n%2-1])/2.0 "
   ]
  },
  {
   "cell_type": "code",
   "execution_count": 3,
   "metadata": {},
   "outputs": [
    {
     "name": "stdout",
     "output_type": "stream",
     "text": [
      "Median of Testcase 1: 2\n",
      "Median of Testcase 2: 2.5\n"
     ]
    }
   ],
   "source": [
    "# Testing Testcase\n",
    "Obj = Solution()\n",
    "print(\"Median of Testcase 1:\",Obj.findMedianSortedArrays([1,3],[2]))\n",
    "print(\"Median of Testcase 2:\",Obj.findMedianSortedArrays([1,2],[3,4]))"
   ]
  },
  {
   "cell_type": "code",
   "execution_count": 4,
   "metadata": {},
   "outputs": [],
   "source": [
    "# Explanation:\n",
    "# Here is a line-by-line explanation of the code:\n",
    "#    Step 1: Check if both nums1 and nums2 are empty.\n",
    "#        - If both lists are empty, return 0 as there is no median.\n",
    "#    Step 2: Concatenate nums1 and nums2 into a single list and sort it using sorted().\n",
    "#    Step 3: Store the length of the sorted list in variable n.\n",
    "#    Step 4: Handle edge cases:\n",
    "#        - If there is only one element (n == 1), return that element as the median.\n",
    "#    Step 5: Check if n is odd or even:\n",
    "#        - If n is odd, return the middle element at index (n//2).\n",
    "#        - If n is even, return the average of the two middle elements:\n",
    "#            - The two middle elements are at indices (n//2) and (n//2 - 1)."
   ]
  }
 ],
 "metadata": {
  "kernelspec": {
   "display_name": "LeetCodeENV",
   "language": "python",
   "name": "python3"
  },
  "language_info": {
   "codemirror_mode": {
    "name": "ipython",
    "version": 3
   },
   "file_extension": ".py",
   "mimetype": "text/x-python",
   "name": "python",
   "nbconvert_exporter": "python",
   "pygments_lexer": "ipython3",
   "version": "3.12.8"
  }
 },
 "nbformat": 4,
 "nbformat_minor": 2
}
