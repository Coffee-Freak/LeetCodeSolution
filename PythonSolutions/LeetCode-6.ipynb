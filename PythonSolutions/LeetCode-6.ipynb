{
 "cells": [
  {
   "cell_type": "markdown",
   "metadata": {},
   "source": [
    "# LeetCode Question-6\n",
    "\n",
    "## The string \"PAYPALISHIRING\" is written in a zigzag pattern on a given number of rows like this: (you may want to display this pattern in a fixed font for better legibility)"
   ]
  },
  {
   "cell_type": "markdown",
   "metadata": {},
   "source": []
  },
  {
   "cell_type": "code",
   "execution_count": 1,
   "metadata": {},
   "outputs": [],
   "source": [
    "# Given Syntax\n",
    "class Solution(object):\n",
    "    def convert(self, s, numRows):\n",
    "        \"\"\"\n",
    "        :type s: str\n",
    "        :type numRows: int\n",
    "        :rtype: str\n",
    "        \"\"\""
   ]
  },
  {
   "cell_type": "code",
   "execution_count": 2,
   "metadata": {},
   "outputs": [],
   "source": [
    "# Main logic\n",
    "class Solution(object):\n",
    "    def convert(self,s,numRows):\n",
    "        if len(s) == 1 or numRows == 1:\n",
    "            return s\n",
    "        rows = [\"\" for _ in range(numRows)]\n",
    "        vertical_movement = direction = 0\n",
    "        for char in s:\n",
    "            rows[vertical_movement] += char\n",
    "            if vertical_movement == numRows - 1:\n",
    "                direction = -1\n",
    "            elif vertical_movement == 0:\n",
    "                direction = 1\n",
    "            vertical_movement += direction\n",
    "        return \"\".join(rows)"
   ]
  },
  {
   "cell_type": "markdown",
   "metadata": {},
   "source": [
    "### "
   ]
  },
  {
   "cell_type": "code",
   "execution_count": 3,
   "metadata": {},
   "outputs": [
    {
     "name": "stdout",
     "output_type": "stream",
     "text": [
      "PAHNAPLSIIGYIR\n",
      "PINALSIGYAHRPI\n",
      "A\n"
     ]
    }
   ],
   "source": [
    "# Testing Testcase\n",
    "Obj = Solution()\n",
    "print(Obj.convert(\"PAYPALISHIRING\", 3))\n",
    "print(Obj.convert(\"PAYPALISHIRING\", 4))\n",
    "print(Obj.convert(\"A\", 1))"
   ]
  },
  {
   "cell_type": "code",
   "execution_count": 4,
   "metadata": {},
   "outputs": [],
   "source": [
    "# Explanation:\n",
    "# Here is a line-by-line explanation of the code:\n",
    "#    Step 1: Check if the length of the string s is 1 or if numRows is 1.\n",
    "#        - If either condition is met, return s directly, as no zigzag pattern is needed.\n",
    "#    Step 2: Create a list rows with numRows empty strings.\n",
    "#        - Each index in rows represents a row in the zigzag pattern.\n",
    "#    Step 3: Initialize vertical_movement (tracks the current row) and direction (controls movement).\n",
    "#        - vertical_movement starts at 0 (first row).\n",
    "#        - direction starts at 0 but will later change to either 1 (down) or -1 (up).\n",
    "#    Step 4: Iterate through each character in s:\n",
    "#        - Append the character to the corresponding row in rows.\n",
    "#        - If vertical_movement reaches the last row (numRows - 1), change direction to -1 (move up).\n",
    "#        - If vertical_movement reaches the first row (0), change direction to 1 (move down).\n",
    "#        - Update vertical_movement by adding direction to move accordingly.\n",
    "#    Step 5: Use `\"\".join(rows)` to concatenate all rows into a single string and return the final zigzag conversion."
   ]
  }
 ],
 "metadata": {
  "kernelspec": {
   "display_name": "LeetCodeENV",
   "language": "python",
   "name": "python3"
  },
  "language_info": {
   "codemirror_mode": {
    "name": "ipython",
    "version": 3
   },
   "file_extension": ".py",
   "mimetype": "text/x-python",
   "name": "python",
   "nbconvert_exporter": "python",
   "pygments_lexer": "ipython3",
   "version": "3.12.8"
  }
 },
 "nbformat": 4,
 "nbformat_minor": 2
}
