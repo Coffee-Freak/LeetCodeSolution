{
 "cells": [
  {
   "cell_type": "markdown",
   "metadata": {},
   "source": [
    "# LeetCode Question-3\n",
    "## You are given two non-empty linked lists representing two non-negative integers. The digits are stored in reverse order, and each of their nodes contains a single digit. Add the two numbers and return the sum as a linked list.You may assume the two numbers do not contain any leading zero, except the number 0 itself."
   ]
  },
  {
   "cell_type": "code",
   "execution_count": null,
   "metadata": {},
   "outputs": [],
   "source": [
    "# Given Code:\n",
    "# Definition for singly-linked list.\n",
    "# class ListNode(object):\n",
    "#     def __init__(self, val=0, next=None):\n",
    "#         self.val = val\n",
    "#         self.next = next\n",
    "class Solution(object):\n",
    "    def addTwoNumbers(self, l1, l2):\n",
    "        \"\"\"\n",
    "        :type l1: Optional[ListNode]\n",
    "        :type l2: Optional[ListNode]\n",
    "        :rtype: Optional[ListNode]\n",
    "        \"\"\"\n",
    "        "
   ]
  },
  {
   "cell_type": "code",
   "execution_count": 29,
   "metadata": {},
   "outputs": [],
   "source": [
    "# Off Topic (Generating Linked List for TestCases)\n",
    "class ListNode(object):\n",
    "    def __init__(self, val):\n",
    "        self.val = val\n",
    "        self.next = None\n",
    "\n",
    "\n",
    "\n",
    "class LinkedList(object):\n",
    "    def __init__(self):\n",
    "        self.head = None\n",
    "\n",
    "    def createLinkedList(self,arr):\n",
    "        if not arr:\n",
    "            return None\n",
    "        \n",
    "        for i in arr:\n",
    "            if self.head == None:\n",
    "                self.head = ListNode(i)\n",
    "                current = self.head\n",
    "                continue\n",
    "\n",
    "            current.next = ListNode(i)\n",
    "            current = current.next\n",
    "\n",
    "        return self.head\n",
    "    \n",
    "\n",
    "    def traverseLinkedList(self):\n",
    "        if self.head == None:\n",
    "            return None\n",
    "        print(\"LinkedList: \")\n",
    "        temp = self.head\n",
    "        while temp != None:\n",
    "            print(temp.val, end = \" -> \")\n",
    "            temp = temp.next\n",
    "        print('None')\n"
   ]
  },
  {
   "cell_type": "code",
   "execution_count": 31,
   "metadata": {},
   "outputs": [
    {
     "name": "stdout",
     "output_type": "stream",
     "text": [
      "LinkedList: \n",
      "2 -> 4 -> 3 -> None\n",
      "LinkedList: \n",
      "5 -> 6 -> 4 -> None\n"
     ]
    }
   ],
   "source": [
    "# Generated testcase:\n",
    "list1 = LinkedList()\n",
    "list2 = LinkedList()\n",
    "list1.createLinkedList([2,4,3])\n",
    "list2.createLinkedList([5,6,4])\n",
    "list1.traverseLinkedList()\n",
    "list2.traverseLinkedList()"
   ]
  },
  {
   "cell_type": "code",
   "execution_count": null,
   "metadata": {},
   "outputs": [],
   "source": []
  }
 ],
 "metadata": {
  "kernelspec": {
   "display_name": "LeetCodeENV",
   "language": "python",
   "name": "python3"
  },
  "language_info": {
   "codemirror_mode": {
    "name": "ipython",
    "version": 3
   },
   "file_extension": ".py",
   "mimetype": "text/x-python",
   "name": "python",
   "nbconvert_exporter": "python",
   "pygments_lexer": "ipython3",
   "version": "3.12.8"
  }
 },
 "nbformat": 4,
 "nbformat_minor": 2
}
