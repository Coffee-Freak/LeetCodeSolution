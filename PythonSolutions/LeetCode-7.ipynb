{
  "cells": [
    {
      "cell_type": "markdown",
      "metadata": {},
      "source": [
        "# LeetCode Question-7\n",
        "\n",
        "## Given a signed 32-bit integer x, return x with its digits reversed. If reversing x causes the value to go outside the signed 32-bit integer range [-2³¹, 2³¹ - 1], then return 0. Assume the environment does not allow you to store 64-bit integers (signed or unsigned)."
      ]
    },
    {
      "cell_type": "code",
      "execution_count": 1,
      "metadata": {},
      "outputs": [],
      "source": [
        "# Given Syntax\n",
        "class Solution(object):\n",
        "    def reverse(self, x):\n",
        "        \"\"\"\n",
        "        :type x: int\n",
        "        :rtype: int\n",
        "        \"\"\""
      ]
    },
    {
      "cell_type": "code",
      "execution_count": 2,
      "metadata": {},
      "outputs": [],
      "source": [
        "# Main logic\n",
        "class Solution(object):\n",
        "    def reverse(self, x):\n",
        "        temp,flag = 0,1\n",
        "        if x < 0:\n",
        "            flag = 0\n",
        "            x *= -1\n",
        "        while(x):\n",
        "            temp *= 10\n",
        "            temp += x%10\n",
        "            x = x//10\n",
        "        if temp > 2147483647: # 2**31-1 = 2147483647\n",
        "            return 0\n",
        "        return temp if flag else temp*-1"
      ]
    },
    {
      "cell_type": "code",
      "execution_count": 3,
      "metadata": {},
      "outputs": [
        {
          "name": "stdout",
          "output_type": "stream",
          "text": [
            "321\n",
            "-321\n",
            "21\n"
          ]
        }
      ],
      "source": [
        "# Testing Testcase\n",
        "Obj = Solution()\n",
        "print(Obj.reverse(123))\n",
        "print(Obj.reverse(-123))\n",
        "print(Obj.reverse(120))"
      ]
    },
    {
      "cell_type": "code",
      "execution_count": 4,
      "metadata": {},
      "outputs": [],
      "source": [
        "# Explanation:\n",
        "# Here is a line-by-line explanation of the code:\n",
        "#    Step 1: Initialize temp (to store the reversed number) and flag (to track the sign).\n",
        "#        - temp is set to 0.\n",
        "#        - flag is set to 1 (positive), but if x is negative, flag is set to 0.\n",
        "#    Step 2: If x is negative, convert it to positive by multiplying by -1.\n",
        "#    Step 3: Start a while loop that runs until x becomes 0:\n",
        "#        - Multiply temp by 10 to shift digits left.\n",
        "#        - Add the last digit of x to temp (x % 10).\n",
        "#        - Update x by removing the last digit (integer division by 10).\n",
        "#    Step 4: Check for 32-bit integer overflow.\n",
        "#        - If temp exceeds 2³¹ - 1 (2147483647), return 0.\n",
        "#    Step 5: Return the reversed number:\n",
        "#        - If flag is 1, return temp as it is.\n",
        "#        - If flag is 0 (original number was negative), return -temp."
      ]
    }
  ],
  "metadata": {
    "kernelspec": {
      "display_name": "LeetCodeENV",
      "language": "python",
      "name": "python3"
    },
    "language_info": {
      "codemirror_mode": {
        "name": "ipython",
        "version": 3
      },
      "file_extension": ".py",
      "mimetype": "text/x-python",
      "name": "python",
      "nbconvert_exporter": "python",
      "pygments_lexer": "ipython3",
      "version": "3.12.8"
    }
  },
  "nbformat": 4,
  "nbformat_minor": 2
}
