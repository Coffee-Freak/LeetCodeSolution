{
  "cells": [
    {
      "cell_type": "markdown",
      "metadata": {},
      "source": [
        "# LeetCode Question-8\n",
        "## Implement the myAtoi(string s) function, which converts a string to a 32-bit signed integer. The algorithm for myAtoi(string s) is as follows:\n",
        "###    Whitespace: Ignore any leading whitespace (\" \").\n",
        "###    Signedness: Determine the sign by checking if the next character is '-' or '+', assuming positivity if neither present.\n",
        "###    Conversion: Read the integer by skipping leading zeros until a non-digit character is encountered or the end of the string is reached. If no digits were read, then the result is 0.\n",
        "###    Rounding: If the integer is out of the 32-bit signed integer range [-2³¹, 2³¹ - 1], then round the integer to remain in the range. Specifically, integers less than -2³¹ should be rounded to -2³¹, and integers greater than 2³¹ - 1 should be rounded to 2³¹ - 1.\n",
        "## Return the integer as the final result."
      ]
    },
    {
      "cell_type": "code",
      "execution_count": null,
      "metadata": {},
      "outputs": [],
      "source": [
        "# Given Syntax\n",
        "class Solution(object):\n",
        "    def myAtoi(self, s):\n",
        "        \"\"\"\n",
        "        :type s: str\n",
        "        :rtype: int\n",
        "        \"\"\""
      ]
    },
    {
      "cell_type": "code",
      "execution_count": null,
      "metadata": {},
      "outputs": [],
      "source": [
        "# Main Logic\n",
        "class Solution(object):\n",
        "    def myAtoi(self, s):\n",
        "        s = s.strip()\n",
        "        if not s:\n",
        "            return 0\n",
        "        start, flag = 0, 1\n",
        "        if s[start] in ['+', '-']:\n",
        "            flag = -1 if s[start] == '-' else 1\n",
        "            start += 1\n",
        "            if start < len(s) and s[start] in ['+', '-']:\n",
        "                return 0\n",
        "        num_start = start\n",
        "        while start < len(s) and s[start].isdigit():\n",
        "            start += 1\n",
        "        if num_start == start:\n",
        "            return 0\n",
        "        result = int(s[num_start:start]) * flag\n",
        "        if flag == -1:\n",
        "            return result if result > -2**31 else -2**31\n",
        "        else:\n",
        "            return result if result < 2**31-1 else 2**31-1"
      ]
    },
    {
      "cell_type": "code",
      "execution_count": 72,
      "metadata": {},
      "outputs": [
        {
          "name": "stdout",
          "output_type": "stream",
          "text": [
            "42\n",
            "-42\n",
            "-42\n",
            "0\n",
            "0\n"
          ]
        }
      ],
      "source": [
        "# Testing Testcase\n",
        "Obj = Solution()\n",
        "print(Obj.myAtoi(\"42\"))\n",
        "print(Obj.myAtoi(\"-042\"))\n",
        "print(Obj.myAtoi(\"   -042\"))\n",
        "print(Obj.myAtoi(\"0-1\"))\n",
        "print(Obj.myAtoi(\"words and 987\"))"
      ]
    },
    {
      "cell_type": "code",
      "execution_count": null,
      "metadata": {},
      "outputs": [],
      "source": [
        "# Explanation:\n",
        "# Here is a line-by-line explanation of the code:\n",
        "#    Step 1: Remove leading and trailing spaces using strip().\n",
        "#        - If the string becomes empty after stripping, return 0 (no valid number).\n",
        "#    Step 2: Initialize start index and flag (to track sign).\n",
        "#        - start = 0 (position tracker).\n",
        "#        - flag = 1 (assume positive unless changed).\n",
        "#    Step 3: Check if the first character is '+' or '-'.\n",
        "#        - If '-', set flag = -1.\n",
        "#        - If '+', keep flag = 1.\n",
        "#        - Increment start to move past the sign.\n",
        "#        - If the next character is another sign ('+' or '-'), return 0 (invalid input).\n",
        "#    Step 4: Mark num_start as the starting position of the numerical portion.\n",
        "#    Step 5: Iterate through the string and move start forward while characters are digits.\n",
        "#        - This ensures only numeric characters are considered.\n",
        "#    Step 6: If no digits were found (num_start == start), return 0.\n",
        "#    Step 7: Convert the substring s[num_start:start] to an integer and apply the sign (flag).\n",
        "#    Step 8: Check for 32-bit integer overflow:\n",
        "#        - If the number is negative, ensure it doesn't go below -2³¹ (-2147483648).\n",
        "#        - If the number is positive, ensure it doesn't exceed 2³¹-1 (2147483647).\n",
        "#    Step 9: Return the final clamped integer."
      ]
    }
  ],
  "metadata": {
    "kernelspec": {
      "display_name": "LeetCodeENV",
      "language": "python",
      "name": "python3"
    },
    "language_info": {
      "codemirror_mode": {
        "name": "ipython",
        "version": 3
      },
      "file_extension": ".py",
      "mimetype": "text/x-python",
      "name": "python",
      "nbconvert_exporter": "python",
      "pygments_lexer": "ipython3",
      "version": "3.12.8"
    }
  },
  "nbformat": 4,
  "nbformat_minor": 2
}
