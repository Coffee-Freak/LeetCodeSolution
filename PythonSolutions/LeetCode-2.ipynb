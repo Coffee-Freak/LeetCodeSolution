{
 "cells": [
  {
   "cell_type": "markdown",
   "metadata": {},
   "source": [
    "# LeetCode Question-3\n",
    "## You are given two non-empty linked lists representing two non-negative integers. The digits are stored in reverse order, and each of their nodes contains a single digit. Add the two numbers and return the sum as a linked list.You may assume the two numbers do not contain any leading zero, except the number 0 itself."
   ]
  },
  {
   "cell_type": "code",
   "execution_count": 1,
   "metadata": {},
   "outputs": [],
   "source": [
    "# Given Code:\n",
    "# Definition for singly-linked list.\n",
    "# class ListNode(object):\n",
    "#     def __init__(self, val=0, next=None):\n",
    "#         self.val = val\n",
    "#         self.next = next\n",
    "class Solution(object):\n",
    "    def addTwoNumbers(self, l1, l2):\n",
    "        \"\"\"\n",
    "        :type l1: Optional[ListNode]\n",
    "        :type l2: Optional[ListNode]\n",
    "        :rtype: Optional[ListNode]\n",
    "        \"\"\"\n",
    "        "
   ]
  },
  {
   "cell_type": "code",
   "execution_count": 2,
   "metadata": {},
   "outputs": [],
   "source": [
    "# Off Topic (Generating Linked List for TestCases)\n",
    "class ListNode(object):\n",
    "    def __init__(self, val):\n",
    "        self.val = val\n",
    "        self.next = None\n",
    "\n",
    "\n",
    "\n",
    "class LinkedList(object):\n",
    "    def __init__(self):\n",
    "        self.head = None\n",
    "\n",
    "    def createLinkedList(self,arr):\n",
    "        if not arr:\n",
    "            return None\n",
    "        \n",
    "        for i in arr:\n",
    "            if self.head == None:\n",
    "                self.head = ListNode(i)\n",
    "                current = self.head\n",
    "                continue\n",
    "\n",
    "            current.next = ListNode(i)\n",
    "            current = current.next\n",
    "\n",
    "        return self.head\n",
    "\n",
    "    def getLinkedList(self):\n",
    "        return self.head\n",
    "\n",
    "def traverseLinkedList(head):\n",
    "    if head == None:\n",
    "        return None\n",
    "    print(\"LinkedList: \")\n",
    "    temp = head\n",
    "    while temp != None:\n",
    "        print(temp.val, end = \" -> \")\n",
    "        temp = temp.next\n",
    "    print('None')"
   ]
  },
  {
   "cell_type": "code",
   "execution_count": 3,
   "metadata": {},
   "outputs": [],
   "source": [
    "# Main Logic\n",
    "class Solution(object):\n",
    "    def addTwoNumbers(self, l1, l2):\n",
    "        self.tempList = ListNode(None)\n",
    "        self.result = self.tempList\n",
    "        carry = 0\n",
    "        while l1 != None or l2 != None or carry != 0:\n",
    "            val1 = l1.val if l1 else 0\n",
    "            val2 = l2.val if l2 else 0\n",
    "            temp = val1 + val2 + carry \n",
    "            carry = 0\n",
    "            \n",
    "            if temp > 9:\n",
    "                temp %= 10\n",
    "                carry = 1\n",
    "\n",
    "            if self.tempList.val == None:\n",
    "                self.tempList.val = temp\n",
    "            else: \n",
    "                self.tempList.next = ListNode(temp)\n",
    "                self.tempList = self.tempList.next\n",
    "            l1 = l1.next if l1 else None\n",
    "            l2 = l2.next if l2 else None\n",
    "        \n",
    "        return self.result"
   ]
  },
  {
   "cell_type": "code",
   "execution_count": 4,
   "metadata": {},
   "outputs": [],
   "source": [
    "# Explanation:\n",
    "# Here is a line-by-line explanation of the code:\n",
    "#    Step 1: Initialize a temporary dummy node tempList = ListNode(None) to construct the result linked list.\n",
    "#    Step 2: Store a reference to this dummy node in result, which will be returned at the end.\n",
    "#    Step 3: Initialize carry = 0 to handle sums greater than 9.\n",
    "#    Step 4: Start a loop that runs until both linked lists are fully processed and there is no carry left.\n",
    "#        - Extract the values from l1 and l2. If a list is None, use 0 as its value.\n",
    "#        - Compute the sum temp = val1 + val2 + carry.\n",
    "#        - Reset carry to 0.\n",
    "#        - If temp is greater than 9:\n",
    "#            - Keep only the last digit (temp %= 10).\n",
    "#            - Set carry = 1 for the next addition.\n",
    "#    Step 5: Add temp to the result linked list:\n",
    "#        - If tempList.val is None, set its value to temp (for the first node).\n",
    "#        - Otherwise, create a new node with temp, link it to tempList.next, and move tempList forward.\n",
    "#    Step 6: Move to the next node in l1 and l2 (if available).\n",
    "#    Step 7: Return result, which points to the head of the new linked list."
   ]
  },
  {
   "cell_type": "code",
   "execution_count": 5,
   "metadata": {},
   "outputs": [
    {
     "name": "stdout",
     "output_type": "stream",
     "text": [
      "LinkedList: \n",
      "2 -> 4 -> 3 -> None\n",
      "LinkedList: \n",
      "5 -> 6 -> 4 -> None\n",
      "LinkedList: \n",
      "0 -> None\n",
      "LinkedList: \n",
      "0 -> None\n",
      "LinkedList: \n",
      "9 -> 9 -> 9 -> 9 -> 9 -> 9 -> 9 -> None\n",
      "LinkedList: \n",
      "9 -> 9 -> 9 -> 9 -> None\n"
     ]
    }
   ],
   "source": [
    "# Generated testcase: (Not the best way but it works 😁)\n",
    "list1 = LinkedList()\n",
    "list2 = LinkedList()\n",
    "list3 = LinkedList()\n",
    "list4 = LinkedList()\n",
    "list5 = LinkedList()\n",
    "list6 = LinkedList()\n",
    "list1.createLinkedList([2,4,3])\n",
    "list2.createLinkedList([5,6,4])\n",
    "list3.createLinkedList([0])\n",
    "list4.createLinkedList([0])\n",
    "list5.createLinkedList([9,9,9,9,9,9,9])\n",
    "list6.createLinkedList([9,9,9,9])\n",
    "l1 = list1.getLinkedList()\n",
    "l2 = list2.getLinkedList()\n",
    "l3 = list3.getLinkedList()\n",
    "l4 = list4.getLinkedList()\n",
    "l5 = list5.getLinkedList()\n",
    "l6 = list6.getLinkedList()\n",
    "traverseLinkedList(l1)\n",
    "traverseLinkedList(l2)\n",
    "traverseLinkedList(l3)\n",
    "traverseLinkedList(l4)\n",
    "traverseLinkedList(l5)\n",
    "traverseLinkedList(l6)"
   ]
  },
  {
   "cell_type": "code",
   "execution_count": 6,
   "metadata": {},
   "outputs": [
    {
     "name": "stdout",
     "output_type": "stream",
     "text": [
      "\n",
      "TestCase 1: \n",
      "LinkedList: \n",
      "7 -> 0 -> 8 -> None\n",
      "\n",
      "TestCase 2: \n",
      "LinkedList: \n",
      "0 -> None\n",
      "\n",
      "TestCase 3: \n",
      "LinkedList: \n",
      "8 -> 9 -> 9 -> 9 -> 0 -> 0 -> 0 -> 1 -> None\n"
     ]
    }
   ],
   "source": [
    "# Testcase Testing\n",
    "Obj = Solution() \n",
    "print(\"\\nTestCase 1: \")\n",
    "traverseLinkedList(Obj.addTwoNumbers(l1,l2))\n",
    "print(\"\\nTestCase 2: \")\n",
    "traverseLinkedList(Obj.addTwoNumbers(l3,l4))\n",
    "print(\"\\nTestCase 3: \")\n",
    "traverseLinkedList(Obj.addTwoNumbers(l5,l6))"
   ]
  }
 ],
 "metadata": {
  "kernelspec": {
   "display_name": "LeetCodeENV",
   "language": "python",
   "name": "python3"
  },
  "language_info": {
   "codemirror_mode": {
    "name": "ipython",
    "version": 3
   },
   "file_extension": ".py",
   "mimetype": "text/x-python",
   "name": "python",
   "nbconvert_exporter": "python",
   "pygments_lexer": "ipython3",
   "version": "3.12.8"
  }
 },
 "nbformat": 4,
 "nbformat_minor": 2
}
